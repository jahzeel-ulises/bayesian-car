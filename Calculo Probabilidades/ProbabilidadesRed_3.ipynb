{
  "cells": [
    {
      "cell_type": "code",
      "execution_count": 42,
      "metadata": {
        "id": "JZRDvowpEaNX"
      },
      "outputs": [],
      "source": [
        "import pandas as pd\n",
        "import pandas as pd\n",
        "import numpy as np\n",
        "import math"
      ]
    },
    {
      "cell_type": "code",
      "execution_count": 43,
      "metadata": {
        "id": "vAS5OWk_Ndpq"
      },
      "outputs": [],
      "source": [
        "import itertools"
      ]
    },
    {
      "cell_type": "code",
      "execution_count": 44,
      "metadata": {
        "colab": {
          "base_uri": "https://localhost:8080/"
        },
        "id": "BhHqo5MUNfmI",
        "outputId": "2010eb22-04a7-42fb-a1c5-da3fac501e79"
      },
      "outputs": [
        {
          "data": {
            "text/plain": [
              "[(0, 0),\n",
              " (0, 1),\n",
              " (0, 2),\n",
              " (0, 3),\n",
              " (1, 0),\n",
              " (1, 1),\n",
              " (1, 2),\n",
              " (1, 3),\n",
              " (2, 0),\n",
              " (2, 1),\n",
              " (2, 2),\n",
              " (2, 3),\n",
              " (3, 0),\n",
              " (3, 1),\n",
              " (3, 2),\n",
              " (3, 3)]"
            ]
          },
          "execution_count": 44,
          "metadata": {},
          "output_type": "execute_result"
        }
      ],
      "source": [
        "nums = [0,1,2,3]\n",
        "\n",
        "permutations = list(itertools.product(nums,nums))\n",
        "permutations"
      ]
    },
    {
      "cell_type": "code",
      "execution_count": 45,
      "metadata": {
        "id": "6SJdeU6np_6z"
      },
      "outputs": [],
      "source": [
        "def norm_dist(x,mu,sigma):\n",
        "  return (1/math.sqrt(2*math.pi*sigma))*math.exp(-0.5*(((x-mu)/sigma)**2))"
      ]
    },
    {
      "cell_type": "code",
      "execution_count": 46,
      "metadata": {
        "id": "a1DX8jaEkt8_"
      },
      "outputs": [],
      "source": [
        "def getTuples(x1):\n",
        "  return (x1[0],x1[1])"
      ]
    },
    {
      "cell_type": "code",
      "execution_count": 47,
      "metadata": {
        "colab": {
          "base_uri": "https://localhost:8080/"
        },
        "id": "vw-HeHkCZCWS",
        "outputId": "bbc85357-5d1c-4391-aa78-51894e57181b"
      },
      "outputs": [
        {
          "name": "stdout",
          "output_type": "stream",
          "text": [
            "P_Angle_CarDirDir = {(0, 0): {'mu': 4.80928686333518, 'std': 1.4025768544861748}, (0, 1): {'mu': 0.6004423378932372, 'std': 1.6617159658288554}, (0, 2): {'mu': 0.4636476090008061, 'std': nan}, (0, 3): {'mu': 3.652330273622648, 'std': 0.45139941610696316}, (1, 0): {'mu': 2.8509018397042407, 'std': 2.7953686219135534}, (1, 1): {'mu': 0.4077990489903197, 'std': 0.5416785906006542}, (1, 2): {'mu': 1.1100659989086448, 'std': 0.7677215678093271}, (1, 3): {'mu': 2.764382090966316, 'std': 0.6681880789279838}, (2, 0): {'mu': 5.311561736234131, 'std': 0.8741422484882687}, (2, 1): {'mu': 0.6570816206796612, 'std': 0.7826028662164126}, (2, 2): {'mu': 1.4745902245859455, 'std': 0.3880501269898892}, (2, 3): {'mu': 2.5947508895477784, 'std': 0.6984315825322553}, (3, 0): {'mu': 4.3261929473950484, 'std': 0.5397974285998951}, (3, 1): {'mu': 1.0133972340855921, 'std': 0.12708295731035754}, (3, 2): {'mu': 1.9934496207135624, 'std': 0.4862954521282074}, (3, 3): {'mu': 3.211504517592011, 'std': 0.6594875961855545}}\n"
          ]
        }
      ],
      "source": [
        "b0_mov = pd.read_csv(\"data/data-b1_4.csv\")\n",
        "b0_mov.columns = [\"CarDir\",\"Angle\",\"Dir\"]\n",
        "\n",
        "b0_mov[\"CarDirXDir\"] = b0_mov[[\"CarDir\",\"Dir\"]].apply(getTuples,axis=1)\n",
        "\n",
        "P_Angle_CarDirDir = {}\n",
        "for element in permutations:\n",
        "   P_Angle_CarDirDir[element] = {}\n",
        "   df_tuple = b0_mov[b0_mov[\"CarDirXDir\"]==element]\n",
        "   statics = df_tuple.describe()\n",
        "   P_Angle_CarDirDir[element][\"mu\"] = statics[\"Angle\"][\"mean\"]\n",
        "   P_Angle_CarDirDir[element][\"std\"] = statics[\"Angle\"][\"std\"]\n",
        "print(\"P_Angle_CarDirDir =\",P_Angle_CarDirDir)"
      ]
    },
    {
      "cell_type": "code",
      "execution_count": 48,
      "metadata": {
        "colab": {
          "base_uri": "https://localhost:8080/"
        },
        "id": "phI9Io5coiaB",
        "outputId": "9e21a498-3b67-4415-a2a1-8e410ea84ba9"
      },
      "outputs": [
        {
          "name": "stdout",
          "output_type": "stream",
          "text": [
            "P_CarDirDir = {(0, 0): 0.188360450563204, (0, 1): 0.015644555694618274, (0, 2): 0.00031289111389236547, (0, 3): 0.021589486858573217, (1, 0): 0.009386733416770964, (1, 1): 0.24342928660826033, (1, 2): 0.026282853566958697, (1, 3): 0.0037546933667083854, (2, 0): 0.0018773466833541927, (2, 1): 0.021589486858573217, (2, 2): 0.123279098873592, (2, 3): 0.02002503128911139, (3, 0): 0.025344180225281603, (3, 1): 0.0025031289111389237, (3, 2): 0.02127659574468085, (3, 3): 0.2753441802252816}\n"
          ]
        }
      ],
      "source": [
        "P_CarDirDir = {}\n",
        "\n",
        "for element in permutations:\n",
        "  mask = b0_mov[\"CarDirXDir\"] == element\n",
        "  P_CarDirDir[element] = np.count_nonzero(mask)/len(mask)\n",
        "print(\"P_CarDirDir =\",P_CarDirDir)"
      ]
    },
    {
      "cell_type": "code",
      "execution_count": 49,
      "metadata": {
        "id": "GQ3za_3JpOIb"
      },
      "outputs": [],
      "source": [
        "def P_Dir_AngleCarDir(carDir,dir,angle):\n",
        "  tuple_ = (carDir,dir)\n",
        "  return math.log(P_CarDirDir[tuple_]) + math.log(norm_dist(angle,P_Angle_CarDirDir[tuple_][\"mu\"],P_Angle_CarDirDir[tuple_][\"std\"]))"
      ]
    },
    {
      "cell_type": "code",
      "execution_count": 50,
      "metadata": {
        "id": "v3BeaDDA03I6"
      },
      "outputs": [],
      "source": [
        "P_Angle_CarDirDir = {(0, 0): {'mu': 4.80928686333518, 'std': 1.4025768544861748}, (0, 1): {'mu': 0.6004423378932372, 'std': 1.6617159658288554}, (0, 2): {'mu': 1.7, 'std':0.5 }, (0, 3): {'mu': 3.652330273622648, 'std': 1}, (1, 0): {'mu': 2.8509018397042407, 'std': 2.7953686219135534}, (1, 1): {'mu': 0.4077990489903197, 'std': 0.5416785906006542}, (1, 2): {'mu': 1.1100659989086448, 'std': 0.7677215678093271}, (1, 3): {'mu': 2.764382090966316, 'std': 0.6681880789279838}, (2, 0): {'mu': 5.311561736234131, 'std': 0.8741422484882687}, (2, 1): {'mu': 0.6570816206796612, 'std': 0.7826028662164126}, (2, 2): {'mu': 1.4745902245859455, 'std': 0.3880501269898892}, (2, 3): {'mu': 2.5947508895477784, 'std': 0.6984315825322553}, (3, 0): {'mu': 4.3261929473950484, 'std': 0.5397974285998951}, (3, 1): {'mu': 1.0133972340855921, 'std': 0.12708295731035754}, (3, 2): {'mu': 1.9934496207135624, 'std': 0.4862954521282074}, (3, 3): {'mu': 3.211504517592011, 'std': 0.6594875961855545}}\n",
        "P_CarDirDir = {(0, 0): 0.108360450563204, (0, 1): 0.015644555694618274, (0, 2): 0.00031289111389236547, (0, 3): 0.101589486858573217, (1, 0): 0.009386733416770964, (1, 1): 0.24342928660826033, (1, 2): 0.026282853566958697, (1, 3): 0.0037546933667083854, (2, 0): 0.0018773466833541927, (2, 1): 0.021589486858573217, (2, 2): 0.123279098873592, (2, 3): 0.02002503128911139, (3, 0): 0.025344180225281603, (3, 1): 0.0025031289111389237, (3, 2): 0.02127659574468085, (3, 3): 0.2753441802252816}\n"
      ]
    },
    {
      "cell_type": "code",
      "execution_count": 51,
      "metadata": {
        "id": "sUEk7A-b6ChA"
      },
      "outputs": [],
      "source": [
        "b1_mov = pd.read_csv(\"data/data-b0_2.csv\")\n",
        "b1_mov.columns = [\"S1\",\"S2\",\"S3\",\"CarDir\",\"Dir\"]\n",
        "\n",
        "b1_mov[\"CarDirXDir\"] = b1_mov[[\"CarDir\",\"Dir\"]].apply(getTuples,axis=1)"
      ]
    },
    {
      "cell_type": "code",
      "execution_count": 52,
      "metadata": {
        "colab": {
          "base_uri": "https://localhost:8080/"
        },
        "id": "QhtQOHtH7a_x",
        "outputId": "b1c26bbb-9e90-4a4f-88e7-a734d6d7bed7"
      },
      "outputs": [
        {
          "name": "stdout",
          "output_type": "stream",
          "text": [
            "P_S1_CarDirDir = {(0, 0): {'mu': 7.621983914209116, 'std': 6.310449546019589}, (0, 1): {'mu': 8.863636363636363, 'std': 5.853207862642339}, (0, 2): {'mu': 12.8, 'std': 4.3817804600413295}, (0, 3): {'mu': 13.390243902439025, 'std': 4.005484045533622}, (1, 0): {'mu': 9.983870967741936, 'std': 4.890579554257385}, (1, 1): {'mu': 4.319429198682766, 'std': 4.173443791453435}, (1, 2): {'mu': 7.585365853658536, 'std': 4.999878047293241}, (1, 3): {'mu': 3.5, 'std': 1.6431676725154984}, (2, 0): {'mu': 2.25, 'std': 1.8929694486000912}, (2, 1): {'mu': 13.105263157894736, 'std': 3.7781524704841605}, (2, 2): {'mu': 7.241935483870968, 'std': 6.291702019573406}, (2, 3): {'mu': 10.258064516129032, 'std': 4.932664877700382}, (3, 0): {'mu': 7.75, 'std': 5.877370012247788}, (3, 1): {'mu': 3.25, 'std': 4.978525312350464}, (3, 2): {'mu': 9.044444444444444, 'std': 6.1531793539288415}, (3, 3): {'mu': 3.609704641350211, 'std': 4.258737303295304}}\n",
            "P_S2_CarDirDir = {(0, 0): {'mu': 9.187667560321715, 'std': 4.451912501548614}, (0, 1): {'mu': 5.159090909090909, 'std': 4.744363519045064}, (0, 2): {'mu': 6.2, 'std': 4.658325879540846}, (0, 3): {'mu': 5.7073170731707314, 'std': 5.129541414390883}, (1, 0): {'mu': 9.82258064516129, 'std': 5.299316979027525}, (1, 1): {'mu': 13.001097694840833, 'std': 3.5398824873872807}, (1, 2): {'mu': 8.512195121951219, 'std': 6.317127318724517}, (1, 3): {'mu': 15.0, 'std': 0.0}, (2, 0): {'mu': 8.0, 'std': 0.816496580927726}, (2, 1): {'mu': 7.0701754385964914, 'std': 5.212826382802626}, (2, 2): {'mu': 11.5, 'std': 3.8667146881796652}, (2, 3): {'mu': 5.290322580645161, 'std': 5.580881342506736}, (3, 0): {'mu': 11.5, 'std': 4.978213403988641}, (3, 1): {'mu': 13.0, 'std': 5.264435935053794}, (3, 2): {'mu': 8.688888888888888, 'std': 5.712117193150261}, (3, 3): {'mu': 13.638185654008439, 'std': 2.9102915516947405}}\n",
            "P_S3_CarDirDir = {(0, 0): {'mu': 7.099195710455764, 'std': 4.672422456225883}, (0, 1): {'mu': 11.340909090909092, 'std': 4.8796834715215915}, (0, 2): {'mu': 6.2, 'std': 5.761944116355173}, (0, 3): {'mu': 7.414634146341464, 'std': 4.587894995289766}, (1, 0): {'mu': 7.483870967741935, 'std': 5.082086622844413}, (1, 1): {'mu': 6.405049396267837, 'std': 4.765897257954844}, (1, 2): {'mu': 8.853658536585366, 'std': 5.160237279475412}, (1, 3): {'mu': 4.166666666666667, 'std': 5.52871293039046}, (2, 0): {'mu': 10.5, 'std': 6.3508529610858835}, (2, 1): {'mu': 8.824561403508772, 'std': 5.25806457812848}, (2, 2): {'mu': 5.42741935483871, 'std': 3.7728782161514434}, (2, 3): {'mu': 12.838709677419354, 'std': 4.203940803528267}, (3, 0): {'mu': 8.416666666666666, 'std': 5.257844381134904}, (3, 1): {'mu': 3.0, 'std': 2.0701966780270626}, (3, 2): {'mu': 5.511111111111111, 'std': 4.4803724592646725}, (3, 3): {'mu': 3.289029535864979, 'std': 1.7453531326733958}}\n"
          ]
        }
      ],
      "source": [
        "P_S1_CarDirDir = {}\n",
        "P_S2_CarDirDir = {}\n",
        "P_S3_CarDirDir = {}\n",
        "\n",
        "for element in permutations:\n",
        "   P_S1_CarDirDir[element] = {}\n",
        "   P_S2_CarDirDir[element] = {}\n",
        "   P_S3_CarDirDir[element] = {}\n",
        "\n",
        "\n",
        "   df_tuple = b1_mov[b1_mov[\"CarDirXDir\"]==element]\n",
        "   statics = df_tuple.describe()\n",
        "\n",
        "   P_S1_CarDirDir[element][\"mu\"] = statics[\"S1\"][\"mean\"]\n",
        "   P_S1_CarDirDir[element][\"std\"] = statics[\"S1\"][\"std\"]\n",
        "\n",
        "   P_S2_CarDirDir[element][\"mu\"] = statics[\"S2\"][\"mean\"]\n",
        "   P_S2_CarDirDir[element][\"std\"] = statics[\"S2\"][\"std\"]\n",
        "\n",
        "   P_S3_CarDirDir[element][\"mu\"] = statics[\"S3\"][\"mean\"]\n",
        "   P_S3_CarDirDir[element][\"std\"] = statics[\"S3\"][\"std\"]\n",
        "\n",
        "print(\"P_S1_CarDirDir =\",P_S1_CarDirDir)\n",
        "print(\"P_S2_CarDirDir =\",P_S2_CarDirDir)\n",
        "print(\"P_S3_CarDirDir =\",P_S3_CarDirDir)"
      ]
    },
    {
      "cell_type": "code",
      "execution_count": 53,
      "metadata": {
        "colab": {
          "base_uri": "https://localhost:8080/"
        },
        "id": "e4R5Ry0r9Whq",
        "outputId": "898f7d4d-7791-4ddf-e262-e046c422ccde"
      },
      "outputs": [
        {
          "name": "stdout",
          "output_type": "stream",
          "text": [
            "P_CarDirDir_ = {(0, 0): 0.12550471063257065, (0, 1): 0.014804845222072678, (0, 2): 0.0016823687752355316, (0, 3): 0.01379542395693136, (1, 0): 0.02086137281292059, (1, 1): 0.30652759084791387, (1, 2): 0.01379542395693136, (1, 3): 0.002018842530282638, (2, 0): 0.0013458950201884253, (2, 1): 0.01917900403768506, (2, 2): 0.12516823687752354, (2, 3): 0.010430686406460296, (3, 0): 0.008075370121130552, (3, 1): 0.0026917900403768506, (3, 2): 0.015141318977119785, (3, 3): 0.3189771197846568}\n"
          ]
        }
      ],
      "source": [
        "P_CarDirDir_ = {}\n",
        "\n",
        "for element in permutations:\n",
        "  mask = b1_mov[\"CarDirXDir\"] == element\n",
        "  P_CarDirDir_[element] = np.count_nonzero(mask)/len(mask)\n",
        "print(\"P_CarDirDir_ =\",P_CarDirDir_)"
      ]
    },
    {
      "cell_type": "code",
      "execution_count": 54,
      "metadata": {
        "id": "9ysHZQ9C944g"
      },
      "outputs": [],
      "source": [
        "def P_Dir_S1S2S3CarDir(carDir,dir,S1,S2,S3):\n",
        "  tuple_ = (carDir,dir)\n",
        "  return math.log(norm_dist(S1,P_S1_CarDirDir[tuple_][\"mu\"],P_S1_CarDirDir[tuple_][\"std\"])) + math.log(norm_dist(S2,P_S2_CarDirDir[tuple_][\"mu\"],P_S2_CarDirDir[tuple_][\"std\"])) + math.log(norm_dist(S3,P_S3_CarDirDir[tuple_][\"mu\"],P_S3_CarDirDir[tuple_][\"std\"]))"
      ]
    },
    {
      "cell_type": "code",
      "execution_count": 55,
      "metadata": {
        "id": "yxOIKim_ERPe"
      },
      "outputs": [],
      "source": [
        "def P_Dir_S1S2S3CarDirAngle(carDir,dir,S1,S2,S3,angle):\n",
        "  tuple_ = (carDir,dir)\n",
        "  prob = 0.7*P_CarDirDir[tuple_]+math.log(norm_dist(S1,P_S1_CarDirDir[tuple_][\"mu\"],P_S1_CarDirDir[tuple_][\"std\"])) + math.log(norm_dist(S2,P_S2_CarDirDir[tuple_][\"mu\"],P_S2_CarDirDir[tuple_][\"std\"])) + math.log(norm_dist(S3,P_S3_CarDirDir[tuple_][\"mu\"],P_S3_CarDirDir[tuple_][\"std\"])) + + math.log(norm_dist(angle,P_Angle_CarDirDir[tuple_][\"mu\"],P_Angle_CarDirDir[tuple_][\"std\"]))\n",
        "  prob += 0.3*P_CarDirDir_[tuple_]+math.log(norm_dist(S1,P_S1_CarDirDir[tuple_][\"mu\"],P_S1_CarDirDir[tuple_][\"std\"])) + math.log(norm_dist(S2,P_S2_CarDirDir[tuple_][\"mu\"],P_S2_CarDirDir[tuple_][\"std\"])) + math.log(norm_dist(S3,P_S3_CarDirDir[tuple_][\"mu\"],P_S3_CarDirDir[tuple_][\"std\"])) + + math.log(norm_dist(angle,P_Angle_CarDirDir[tuple_][\"mu\"],P_Angle_CarDirDir[tuple_][\"std\"]))\n",
        "  return prob"
      ]
    },
    {
      "cell_type": "code",
      "execution_count": 56,
      "metadata": {
        "id": "E373KUz6SVyA"
      },
      "outputs": [],
      "source": [
        "def P_B_S1S2S3CarDirAngle(b,carDir,S1,S2,S3,angle):\n",
        "  sum = 0\n",
        "  if b:\n",
        "    for i in range(4):\n",
        "      tuple_ = (carDir,i)\n",
        "      sum += P_CarDirDir[tuple_]+math.log(norm_dist(S1,P_S1_CarDirDir[tuple_][\"mu\"],P_S1_CarDirDir[tuple_][\"std\"])) + math.log(norm_dist(S2,P_S2_CarDirDir[tuple_][\"mu\"],P_S2_CarDirDir[tuple_][\"std\"])) + math.log(norm_dist(S3,P_S3_CarDirDir[tuple_][\"mu\"],P_S3_CarDirDir[tuple_][\"std\"])) + + math.log(norm_dist(angle,P_Angle_CarDirDir[tuple_][\"mu\"],P_Angle_CarDirDir[tuple_][\"std\"]))\n",
        "      sum += math.log(0.3)\n",
        "      return sum\n",
        "  else:\n",
        "    for i in range(4):\n",
        "      tuple_ = (carDir,i)\n",
        "      sum += P_CarDirDir_[tuple_]+math.log(norm_dist(S1,P_S1_CarDirDir[tuple_][\"mu\"],P_S1_CarDirDir[tuple_][\"std\"])) + math.log(norm_dist(S2,P_S2_CarDirDir[tuple_][\"mu\"],P_S2_CarDirDir[tuple_][\"std\"])) + math.log(norm_dist(S3,P_S3_CarDirDir[tuple_][\"mu\"],P_S3_CarDirDir[tuple_][\"std\"])) + + math.log(norm_dist(angle,P_Angle_CarDirDir[tuple_][\"mu\"],P_Angle_CarDirDir[tuple_][\"std\"]))\n",
        "      sum += math.log(0.7)\n",
        "      return sum"
      ]
    },
    {
      "cell_type": "code",
      "execution_count": 57,
      "metadata": {
        "id": "5RIPfk6ZTrk3"
      },
      "outputs": [],
      "source": [
        "def P_Dir_S1S2S3CarDirAngleB(carDir,dir,S1,S2,S3,angle,b):\n",
        "  tuple_ = (carDir,dir)\n",
        "  if b:\n",
        "    return math.log(0.3)+P_CarDirDir[tuple_]+math.log(norm_dist(S1,P_S1_CarDirDir[tuple_][\"mu\"],P_S1_CarDirDir[tuple_][\"std\"])) + math.log(norm_dist(S2,P_S2_CarDirDir[tuple_][\"mu\"],P_S2_CarDirDir[tuple_][\"std\"])) + math.log(norm_dist(S3,P_S3_CarDirDir[tuple_][\"mu\"],P_S3_CarDirDir[tuple_][\"std\"])) + + math.log(norm_dist(angle,P_Angle_CarDirDir[tuple_][\"mu\"],P_Angle_CarDirDir[tuple_][\"std\"]))\n",
        "  else:\n",
        "    return math.log(0.7)+P_CarDirDir_[tuple_]+math.log(norm_dist(S1,P_S1_CarDirDir[tuple_][\"mu\"],P_S1_CarDirDir[tuple_][\"std\"])) + math.log(norm_dist(S2,P_S2_CarDirDir[tuple_][\"mu\"],P_S2_CarDirDir[tuple_][\"std\"])) + math.log(norm_dist(S3,P_S3_CarDirDir[tuple_][\"mu\"],P_S3_CarDirDir[tuple_][\"std\"])) + + math.log(norm_dist(angle,P_Angle_CarDirDir[tuple_][\"mu\"],P_Angle_CarDirDir[tuple_][\"std\"]))"
      ]
    }
  ],
  "metadata": {
    "colab": {
      "provenance": []
    },
    "kernelspec": {
      "display_name": "Python 3",
      "name": "python3"
    },
    "language_info": {
      "name": "python"
    }
  },
  "nbformat": 4,
  "nbformat_minor": 0
}
