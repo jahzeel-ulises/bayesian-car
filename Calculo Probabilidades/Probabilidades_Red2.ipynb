{
  "cells": [
    {
      "cell_type": "code",
      "execution_count": 29,
      "metadata": {
        "id": "Md9oSPLEQxer"
      },
      "outputs": [],
      "source": [
        "import pandas as pd\n",
        "import numpy as np\n",
        "import math"
      ]
    },
    {
      "cell_type": "code",
      "execution_count": 30,
      "metadata": {
        "id": "Li33tuKYQ24n"
      },
      "outputs": [],
      "source": [
        "data = pd.read_csv('data/data-behave6.csv')\n",
        "data.columns=[\"S1\",\"S2\",\"S3\",\"Angle\",\"Behave\",\"Dir\"]"
      ]
    },
    {
      "cell_type": "code",
      "execution_count": 31,
      "metadata": {
        "colab": {
          "base_uri": "https://localhost:8080/"
        },
        "id": "x6E9bHQVZwBd",
        "outputId": "bcf7dc84-1039-4cc9-9294-ef886e007f8e"
      },
      "outputs": [
        {
          "name": "stdout",
          "output_type": "stream",
          "text": [
            "0: 0.7028824833702882\n",
            "1: 0.29711751662971175\n"
          ]
        }
      ],
      "source": [
        "behave = data[\"Behave\"].values\n",
        "\n",
        "for i in range(2):\n",
        "  mask = behave == i\n",
        "  print(f\"{i}:\",np.count_nonzero(mask)/len(behave))"
      ]
    },
    {
      "cell_type": "code",
      "execution_count": 32,
      "metadata": {
        "id": "HP66cMeDQs76"
      },
      "outputs": [],
      "source": [
        "data_behave1 = data[data[\"Behave\"] == 1]"
      ]
    },
    {
      "cell_type": "code",
      "execution_count": 33,
      "metadata": {
        "id": "C1FeBVyqX0mA"
      },
      "outputs": [],
      "source": [
        "data_behave0 = data[data[\"Behave\"] == 0]"
      ]
    },
    {
      "cell_type": "code",
      "execution_count": 34,
      "metadata": {
        "colab": {
          "base_uri": "https://localhost:8080/"
        },
        "id": "o2OIDIEgX_sP",
        "outputId": "f45e7f53-91b9-46d7-b283-4c6e8d68b36b"
      },
      "outputs": [
        {
          "name": "stdout",
          "output_type": "stream",
          "text": [
            "0: 0.14925373134328357 ,\n",
            "\n",
            "1: 0.7649253731343284 ,\n",
            "\n",
            "2: 0.05037313432835821 ,\n",
            "\n",
            "3: 0.03544776119402985 ,\n",
            "\n"
          ]
        }
      ],
      "source": [
        "dir = data_behave1[\"Dir\"].values\n",
        "\n",
        "for i in range(4):\n",
        "  mask = dir == i\n",
        "  print(f\"{i}:\",np.count_nonzero(mask)/len(dir),\",\\n\")"
      ]
    },
    {
      "cell_type": "code",
      "execution_count": 35,
      "metadata": {
        "colab": {
          "base_uri": "https://localhost:8080/"
        },
        "id": "sCYxnw7mZgTs",
        "outputId": "b7ecc293-e6c3-442b-884c-63890d033939"
      },
      "outputs": [
        {
          "name": "stdout",
          "output_type": "stream",
          "text": [
            "0: 0.10173501577287067 ,\n",
            "1: 0.19558359621451105 ,\n",
            "2: 0.09069400630914827 ,\n",
            "3: 0.61198738170347 ,\n"
          ]
        }
      ],
      "source": [
        "dir = data_behave0[\"Dir\"].values\n",
        "\n",
        "for i in range(4):\n",
        "  mask = dir == i\n",
        "  print(f\"{i}:\",np.count_nonzero(mask)/len(dir),\",\")"
      ]
    },
    {
      "cell_type": "code",
      "execution_count": 36,
      "metadata": {
        "colab": {
          "base_uri": "https://localhost:8080/"
        },
        "id": "f6FM_lPpbpxo",
        "outputId": "9ccaac54-4266-4ccf-d18e-26cec6575375"
      },
      "outputs": [
        {
          "name": "stdout",
          "output_type": "stream",
          "text": [
            "Statics S1 | 0  mean:  8.15311004784689 std:  5.826456766695983\n",
            "Statics S2 | 0  mean:  9.330143540669857 std:  5.826456766695983\n",
            "Statics S3 | 0  mean:  8.31578947368421 std:  5.826456766695983\n",
            "Statics Angle | 0  mean:  4.3101599199187435 std:  5.826456766695983\n",
            "S1 0:{\"mu\":8.15311004784689,\"std\":5.826456766695983}\n",
            "S2 0:{\"mu\":9.330143540669857,\"std\":4.569032518200537}\n",
            "S3 0:{\"mu\":8.31578947368421,\"std\":5.108984306863085}\n",
            "Angle 0:{\"mu\":4.3101599199187435,\"std\":0.9550303773103276}\n",
            "\n",
            "\n",
            "Statics S1 | 1  mean:  4.328267477203648 std:  4.483199523545753\n",
            "Statics S2 | 1  mean:  12.829787234042554 std:  4.483199523545753\n",
            "Statics S3 | 1  mean:  6.848024316109423 std:  4.483199523545753\n",
            "Statics Angle | 1  mean:  3.3553793322094365 std:  4.483199523545753\n",
            "S1 1:{\"mu\":4.328267477203648,\"std\":4.483199523545753}\n",
            "S2 1:{\"mu\":12.829787234042554,\"std\":3.8725777857345007}\n",
            "S3 1:{\"mu\":6.848024316109423,\"std\":5.442210921423265}\n",
            "Angle 1:{\"mu\":3.3553793322094365,\"std\":1.7510662982052894}\n",
            "\n",
            "\n",
            "Statics S1 | 2  mean:  7.908450704225352 std:  5.228000078108418\n",
            "Statics S2 | 2  mean:  10.67605633802817 std:  5.228000078108418\n",
            "Statics S3 | 2  mean:  7.654929577464789 std:  5.228000078108418\n",
            "Statics Angle | 2  mean:  2.122953846579506 std:  5.228000078108418\n",
            "S1 2:{\"mu\":7.908450704225352,\"std\":5.228000078108418}\n",
            "S2 2:{\"mu\":10.67605633802817,\"std\":4.365482426891506}\n",
            "S3 2:{\"mu\":7.654929577464789,\"std\":5.324965653867042}\n",
            "Angle 2:{\"mu\":2.122953846579506,\"std\":1.1200173241186642}\n",
            "\n",
            "\n",
            "Statics S1 | 3  mean:  4.450314465408805 std:  3.982769472586609\n",
            "Statics S2 | 3  mean:  14.338364779874214 std:  3.982769472586609\n",
            "Statics S3 | 3  mean:  6.168553459119497 std:  3.982769472586609\n",
            "Statics Angle | 3  mean:  3.1399395783817856 std:  3.982769472586609\n",
            "S1 3:{\"mu\":4.450314465408805,\"std\":3.982769472586609}\n",
            "S2 3:{\"mu\":14.338364779874214,\"std\":2.47811068904742}\n",
            "S3 3:{\"mu\":6.168553459119497,\"std\":5.130711333382166}\n",
            "Angle 3:{\"mu\":3.1399395783817856,\"std\":0.5668739493590889}\n",
            "\n",
            "\n"
          ]
        }
      ],
      "source": [
        "for i in range(4):\n",
        "  data_i = data[data[\"Dir\"] == i]\n",
        "  statics = data_i.describe()\n",
        "  print(f\"Statics S1 | {i}  mean: \",statics[\"S1\"][\"mean\"],\"std: \",statics[\"S1\"][\"std\"])\n",
        "  print(f\"Statics S2 | {i}  mean: \",statics[\"S2\"][\"mean\"],\"std: \",statics[\"S1\"][\"std\"])\n",
        "  print(f\"Statics S3 | {i}  mean: \",statics[\"S3\"][\"mean\"],\"std: \",statics[\"S1\"][\"std\"])\n",
        "  print(f\"Statics Angle | {i}  mean: \",statics[\"Angle\"][\"mean\"],\"std: \",statics[\"S1\"][\"std\"])\n",
        "  print(\"S1 \"+str(i)+\":{\"+\"\\\"mu\\\":\"+str(statics[\"S1\"][\"mean\"])+\",\"+\"\\\"std\\\":\"+str(statics[\"S1\"][\"std\"])+\"}\")\n",
        "  print(\"S2 \"+str(i)+\":{\"+\"\\\"mu\\\":\"+str(statics[\"S2\"][\"mean\"])+\",\"+\"\\\"std\\\":\"+str(statics[\"S2\"][\"std\"])+\"}\")\n",
        "  print(\"S3 \"+str(i)+\":{\"+\"\\\"mu\\\":\"+str(statics[\"S3\"][\"mean\"])+\",\"+\"\\\"std\\\":\"+str(statics[\"S3\"][\"std\"])+\"}\")\n",
        "  print(\"Angle \"+str(i)+\":{\"+\"\\\"mu\\\":\"+str(statics[\"Angle\"][\"mean\"])+\",\"+\"\\\"std\\\":\"+str(statics[\"Angle\"][\"std\"])+\"}\")\n",
        "  print(\"\\n\")\n"
      ]
    },
    {
      "cell_type": "code",
      "execution_count": 37,
      "metadata": {
        "id": "HHrelSqyhLAJ"
      },
      "outputs": [],
      "source": [
        "P_Behave = {0: 0.7028824833702882,1:0.29711751662971175}\n",
        "\n",
        "P_Dir_Behave = {0:{0:0.10173501577287067,\n",
        "                   1:0.19558359621451105,\n",
        "                   2:0.09069400630914827,\n",
        "                   3:0.61198738170347},\n",
        "                1:{0:0.14925373134328357,\n",
        "                   1:0.7649253731343284,\n",
        "                   2:0.05037313432835821,\n",
        "                   3:0.03544776119402985}}\n",
        "\n",
        "P_S1_Dir = {0:{\"mu\":8.15311004784689,\"std\":5.826456766695983},\n",
        "           1:{\"mu\":4.328267477203648,\"std\":4.483199523545753},\n",
        "           2:{\"mu\":7.908450704225352,\"std\":5.228000078108418},\n",
        "           3:{\"mu\":4.450314465408805,\"std\":3.982769472586609}}\n",
        "\n",
        "P_S2_Dir = {0:{\"mu\":9.330143540669857,\"std\":4.569032518200537},\n",
        "            1:{\"mu\":12.829787234042554,\"std\":3.8725777857345007},\n",
        "            2:{\"mu\":10.67605633802817,\"std\":4.365482426891506},\n",
        "            3:{\"mu\":14.338364779874214,\"std\":2.47811068904742}}\n",
        "\n",
        "P_S3_Dir = {0:{\"mu\":8.31578947368421,\"std\":5.108984306863085},\n",
        "            1:{\"mu\":6.848024316109423,\"std\":5.442210921423265},\n",
        "            2:{\"mu\":7.654929577464789,\"std\":5.324965653867042},\n",
        "            3:{\"mu\":6.168553459119497,\"std\":5.130711333382166}}\n",
        "\n",
        "P_Angle_Dir = {0:{\"mu\":4.3101599199187435,\"std\":0.9550303773103276},\n",
        "               1:{\"mu\":3.3553793322094365,\"std\":1.7510662982052894},\n",
        "               2:{\"mu\":2.122953846579506,\"std\":1.1200173241186642},\n",
        "               3:{\"mu\":3.1399395783817856,\"std\":0.5668739493590889}}\n"
      ]
    },
    {
      "cell_type": "code",
      "execution_count": 38,
      "metadata": {
        "id": "m18f0pBkSSQ1"
      },
      "outputs": [],
      "source": [
        "def norm_dist(x,mu,sigma):\n",
        "  return (1/math.sqrt(2*math.pi*sigma))*math.exp(-0.5*(((x-mu)/sigma)**2))\n",
        "\n",
        "def prob_Dir_S1S2S3Angle(Dir,S1,S2,S3,Angle):\n",
        "  sum = 0\n",
        "  for i in range(2):\n",
        "    sum += math.log(P_Behave[i]) + math.log(P_Dir_Behave[i][Dir]) + math.log(norm_dist(S1,P_S1_Dir[Dir][\"mu\"],P_S1_Dir[Dir][\"std\"])) + math.log(norm_dist(S2,P_S2_Dir[Dir][\"mu\"],P_S2_Dir[Dir][\"std\"])) + math.log(norm_dist(S3,P_S3_Dir[Dir][\"mu\"],P_S3_Dir[Dir][\"std\"])) + math.log(norm_dist(Angle,P_Angle_Dir[Dir][\"mu\"],P_Angle_Dir[Dir][\"std\"]))\n",
        "  return sum\n"
      ]
    },
    {
      "cell_type": "code",
      "execution_count": 39,
      "metadata": {
        "colab": {
          "base_uri": "https://localhost:8080/"
        },
        "id": "twL1Y08mYtJC",
        "outputId": "dae4034f-f825-4e2e-9f6a-b09b2459f617"
      },
      "outputs": [
        {
          "name": "stdout",
          "output_type": "stream",
          "text": [
            "-40.10288062103569\n",
            "-20.477585420162615\n",
            "-25.243978552710782\n",
            "-45.304639903175534\n"
          ]
        }
      ],
      "source": [
        "print(prob_Dir_S1S2S3Angle(0,1,15,10,0.15))\n",
        "print(prob_Dir_S1S2S3Angle(1,1,15,10,0.15))\n",
        "print(prob_Dir_S1S2S3Angle(2,1,15,10,0.15))\n",
        "print(prob_Dir_S1S2S3Angle(3,1,15,10,0.15))"
      ]
    },
    {
      "cell_type": "code",
      "execution_count": 40,
      "metadata": {
        "colab": {
          "base_uri": "https://localhost:8080/"
        },
        "id": "rBq20jPfmV8W",
        "outputId": "52338e10-791c-426b-ec75-7ec6c248397f"
      },
      "outputs": [
        {
          "name": "stdout",
          "output_type": "stream",
          "text": [
            "1\n"
          ]
        }
      ],
      "source": [
        "prob = [prob_Dir_S1S2S3Angle(i,1,15,10,0.15) for i in range(4)]\n",
        "print(prob.index(max(prob)))"
      ]
    }
  ],
  "metadata": {
    "colab": {
      "provenance": []
    },
    "kernelspec": {
      "display_name": "Python 3",
      "name": "python3"
    },
    "language_info": {
      "name": "python"
    }
  },
  "nbformat": 4,
  "nbformat_minor": 0
}
